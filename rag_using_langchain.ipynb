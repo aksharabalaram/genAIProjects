{
 "cells": [
  {
   "cell_type": "markdown",
   "metadata": {},
   "source": [
    "RAG implementation using FAISS vectorstore , llama model and huggingface embedding\n",
    "\n",
    "Ingestion -> retrival -> Generation"
   ]
  },
  {
   "cell_type": "code",
   "execution_count": 1,
   "metadata": {},
   "outputs": [
    {
     "name": "stdout",
     "output_type": "stream",
     "text": [
      "Requirement already satisfied: langchain in c:\\users\\1034960\\desktop\\akshara\\study_material\\myprojects\\aiprojects\\.venv\\lib\\site-packages (0.3.25)\n",
      "Requirement already satisfied: faiss-cpu in c:\\users\\1034960\\desktop\\akshara\\study_material\\myprojects\\aiprojects\\.venv\\lib\\site-packages (1.11.0)\n",
      "Requirement already satisfied: langchain-community in c:\\users\\1034960\\desktop\\akshara\\study_material\\myprojects\\aiprojects\\.venv\\lib\\site-packages (0.3.25)\n",
      "Requirement already satisfied: langchain-ollama in c:\\users\\1034960\\desktop\\akshara\\study_material\\myprojects\\aiprojects\\.venv\\lib\\site-packages (0.3.3)\n",
      "Requirement already satisfied: langchain-huggingface in c:\\users\\1034960\\desktop\\akshara\\study_material\\myprojects\\aiprojects\\.venv\\lib\\site-packages (0.3.0)\n",
      "Requirement already satisfied: sentence-transformers in c:\\users\\1034960\\desktop\\akshara\\study_material\\myprojects\\aiprojects\\.venv\\lib\\site-packages (4.1.0)\n",
      "Requirement already satisfied: langchain-core<1.0.0,>=0.3.58 in c:\\users\\1034960\\desktop\\akshara\\study_material\\myprojects\\aiprojects\\.venv\\lib\\site-packages (from langchain) (0.3.65)\n",
      "Requirement already satisfied: langchain-text-splitters<1.0.0,>=0.3.8 in c:\\users\\1034960\\desktop\\akshara\\study_material\\myprojects\\aiprojects\\.venv\\lib\\site-packages (from langchain) (0.3.8)\n",
      "Requirement already satisfied: langsmith<0.4,>=0.1.17 in c:\\users\\1034960\\desktop\\akshara\\study_material\\myprojects\\aiprojects\\.venv\\lib\\site-packages (from langchain) (0.3.45)\n",
      "Requirement already satisfied: pydantic<3.0.0,>=2.7.4 in c:\\users\\1034960\\desktop\\akshara\\study_material\\myprojects\\aiprojects\\.venv\\lib\\site-packages (from langchain) (2.11.7)\n",
      "Requirement already satisfied: SQLAlchemy<3,>=1.4 in c:\\users\\1034960\\desktop\\akshara\\study_material\\myprojects\\aiprojects\\.venv\\lib\\site-packages (from langchain) (2.0.41)\n",
      "Requirement already satisfied: requests<3,>=2 in c:\\users\\1034960\\desktop\\akshara\\study_material\\myprojects\\aiprojects\\.venv\\lib\\site-packages (from langchain) (2.32.4)\n",
      "Requirement already satisfied: PyYAML>=5.3 in c:\\users\\1034960\\desktop\\akshara\\study_material\\myprojects\\aiprojects\\.venv\\lib\\site-packages (from langchain) (6.0.2)\n",
      "Requirement already satisfied: tenacity!=8.4.0,<10.0.0,>=8.1.0 in c:\\users\\1034960\\desktop\\akshara\\study_material\\myprojects\\aiprojects\\.venv\\lib\\site-packages (from langchain-core<1.0.0,>=0.3.58->langchain) (9.1.2)\n",
      "Requirement already satisfied: jsonpatch<2.0,>=1.33 in c:\\users\\1034960\\desktop\\akshara\\study_material\\myprojects\\aiprojects\\.venv\\lib\\site-packages (from langchain-core<1.0.0,>=0.3.58->langchain) (1.33)\n",
      "Requirement already satisfied: packaging<25,>=23.2 in c:\\users\\1034960\\desktop\\akshara\\study_material\\myprojects\\aiprojects\\.venv\\lib\\site-packages (from langchain-core<1.0.0,>=0.3.58->langchain) (24.2)\n",
      "Requirement already satisfied: typing-extensions>=4.7 in c:\\users\\1034960\\desktop\\akshara\\study_material\\myprojects\\aiprojects\\.venv\\lib\\site-packages (from langchain-core<1.0.0,>=0.3.58->langchain) (4.14.0)\n",
      "Requirement already satisfied: jsonpointer>=1.9 in c:\\users\\1034960\\desktop\\akshara\\study_material\\myprojects\\aiprojects\\.venv\\lib\\site-packages (from jsonpatch<2.0,>=1.33->langchain-core<1.0.0,>=0.3.58->langchain) (3.0.0)\n",
      "Requirement already satisfied: httpx<1,>=0.23.0 in c:\\users\\1034960\\desktop\\akshara\\study_material\\myprojects\\aiprojects\\.venv\\lib\\site-packages (from langsmith<0.4,>=0.1.17->langchain) (0.28.1)\n",
      "Requirement already satisfied: orjson<4.0.0,>=3.9.14 in c:\\users\\1034960\\desktop\\akshara\\study_material\\myprojects\\aiprojects\\.venv\\lib\\site-packages (from langsmith<0.4,>=0.1.17->langchain) (3.10.18)\n",
      "Requirement already satisfied: requests-toolbelt<2.0.0,>=1.0.0 in c:\\users\\1034960\\desktop\\akshara\\study_material\\myprojects\\aiprojects\\.venv\\lib\\site-packages (from langsmith<0.4,>=0.1.17->langchain) (1.0.0)\n",
      "Requirement already satisfied: zstandard<0.24.0,>=0.23.0 in c:\\users\\1034960\\desktop\\akshara\\study_material\\myprojects\\aiprojects\\.venv\\lib\\site-packages (from langsmith<0.4,>=0.1.17->langchain) (0.23.0)\n",
      "Requirement already satisfied: anyio in c:\\users\\1034960\\desktop\\akshara\\study_material\\myprojects\\aiprojects\\.venv\\lib\\site-packages (from httpx<1,>=0.23.0->langsmith<0.4,>=0.1.17->langchain) (4.9.0)\n",
      "Requirement already satisfied: certifi in c:\\users\\1034960\\desktop\\akshara\\study_material\\myprojects\\aiprojects\\.venv\\lib\\site-packages (from httpx<1,>=0.23.0->langsmith<0.4,>=0.1.17->langchain) (2025.6.15)\n",
      "Requirement already satisfied: httpcore==1.* in c:\\users\\1034960\\desktop\\akshara\\study_material\\myprojects\\aiprojects\\.venv\\lib\\site-packages (from httpx<1,>=0.23.0->langsmith<0.4,>=0.1.17->langchain) (1.0.9)\n",
      "Requirement already satisfied: idna in c:\\users\\1034960\\desktop\\akshara\\study_material\\myprojects\\aiprojects\\.venv\\lib\\site-packages (from httpx<1,>=0.23.0->langsmith<0.4,>=0.1.17->langchain) (3.10)\n",
      "Requirement already satisfied: h11>=0.16 in c:\\users\\1034960\\desktop\\akshara\\study_material\\myprojects\\aiprojects\\.venv\\lib\\site-packages (from httpcore==1.*->httpx<1,>=0.23.0->langsmith<0.4,>=0.1.17->langchain) (0.16.0)\n",
      "Requirement already satisfied: annotated-types>=0.6.0 in c:\\users\\1034960\\desktop\\akshara\\study_material\\myprojects\\aiprojects\\.venv\\lib\\site-packages (from pydantic<3.0.0,>=2.7.4->langchain) (0.7.0)\n",
      "Requirement already satisfied: pydantic-core==2.33.2 in c:\\users\\1034960\\desktop\\akshara\\study_material\\myprojects\\aiprojects\\.venv\\lib\\site-packages (from pydantic<3.0.0,>=2.7.4->langchain) (2.33.2)\n",
      "Requirement already satisfied: typing-inspection>=0.4.0 in c:\\users\\1034960\\desktop\\akshara\\study_material\\myprojects\\aiprojects\\.venv\\lib\\site-packages (from pydantic<3.0.0,>=2.7.4->langchain) (0.4.1)\n",
      "Requirement already satisfied: charset_normalizer<4,>=2 in c:\\users\\1034960\\desktop\\akshara\\study_material\\myprojects\\aiprojects\\.venv\\lib\\site-packages (from requests<3,>=2->langchain) (3.4.2)\n",
      "Requirement already satisfied: urllib3<3,>=1.21.1 in c:\\users\\1034960\\desktop\\akshara\\study_material\\myprojects\\aiprojects\\.venv\\lib\\site-packages (from requests<3,>=2->langchain) (2.4.0)\n",
      "Requirement already satisfied: greenlet>=1 in c:\\users\\1034960\\desktop\\akshara\\study_material\\myprojects\\aiprojects\\.venv\\lib\\site-packages (from SQLAlchemy<3,>=1.4->langchain) (3.2.3)\n",
      "Requirement already satisfied: numpy<3.0,>=1.25.0 in c:\\users\\1034960\\desktop\\akshara\\study_material\\myprojects\\aiprojects\\.venv\\lib\\site-packages (from faiss-cpu) (2.1.3)\n",
      "Requirement already satisfied: aiohttp<4.0.0,>=3.8.3 in c:\\users\\1034960\\desktop\\akshara\\study_material\\myprojects\\aiprojects\\.venv\\lib\\site-packages (from langchain-community) (3.12.13)\n",
      "Requirement already satisfied: dataclasses-json<0.7,>=0.5.7 in c:\\users\\1034960\\desktop\\akshara\\study_material\\myprojects\\aiprojects\\.venv\\lib\\site-packages (from langchain-community) (0.6.7)\n",
      "Requirement already satisfied: pydantic-settings<3.0.0,>=2.4.0 in c:\\users\\1034960\\desktop\\akshara\\study_material\\myprojects\\aiprojects\\.venv\\lib\\site-packages (from langchain-community) (2.9.1)\n",
      "Requirement already satisfied: httpx-sse<1.0.0,>=0.4.0 in c:\\users\\1034960\\desktop\\akshara\\study_material\\myprojects\\aiprojects\\.venv\\lib\\site-packages (from langchain-community) (0.4.0)\n",
      "Requirement already satisfied: aiohappyeyeballs>=2.5.0 in c:\\users\\1034960\\desktop\\akshara\\study_material\\myprojects\\aiprojects\\.venv\\lib\\site-packages (from aiohttp<4.0.0,>=3.8.3->langchain-community) (2.6.1)\n",
      "Requirement already satisfied: aiosignal>=1.1.2 in c:\\users\\1034960\\desktop\\akshara\\study_material\\myprojects\\aiprojects\\.venv\\lib\\site-packages (from aiohttp<4.0.0,>=3.8.3->langchain-community) (1.3.2)\n",
      "Requirement already satisfied: attrs>=17.3.0 in c:\\users\\1034960\\desktop\\akshara\\study_material\\myprojects\\aiprojects\\.venv\\lib\\site-packages (from aiohttp<4.0.0,>=3.8.3->langchain-community) (25.3.0)\n",
      "Requirement already satisfied: frozenlist>=1.1.1 in c:\\users\\1034960\\desktop\\akshara\\study_material\\myprojects\\aiprojects\\.venv\\lib\\site-packages (from aiohttp<4.0.0,>=3.8.3->langchain-community) (1.7.0)\n",
      "Requirement already satisfied: multidict<7.0,>=4.5 in c:\\users\\1034960\\desktop\\akshara\\study_material\\myprojects\\aiprojects\\.venv\\lib\\site-packages (from aiohttp<4.0.0,>=3.8.3->langchain-community) (6.4.4)\n",
      "Requirement already satisfied: propcache>=0.2.0 in c:\\users\\1034960\\desktop\\akshara\\study_material\\myprojects\\aiprojects\\.venv\\lib\\site-packages (from aiohttp<4.0.0,>=3.8.3->langchain-community) (0.3.2)\n",
      "Requirement already satisfied: yarl<2.0,>=1.17.0 in c:\\users\\1034960\\desktop\\akshara\\study_material\\myprojects\\aiprojects\\.venv\\lib\\site-packages (from aiohttp<4.0.0,>=3.8.3->langchain-community) (1.20.1)\n",
      "Requirement already satisfied: marshmallow<4.0.0,>=3.18.0 in c:\\users\\1034960\\desktop\\akshara\\study_material\\myprojects\\aiprojects\\.venv\\lib\\site-packages (from dataclasses-json<0.7,>=0.5.7->langchain-community) (3.26.1)\n",
      "Requirement already satisfied: typing-inspect<1,>=0.4.0 in c:\\users\\1034960\\desktop\\akshara\\study_material\\myprojects\\aiprojects\\.venv\\lib\\site-packages (from dataclasses-json<0.7,>=0.5.7->langchain-community) (0.9.0)\n",
      "Requirement already satisfied: python-dotenv>=0.21.0 in c:\\users\\1034960\\desktop\\akshara\\study_material\\myprojects\\aiprojects\\.venv\\lib\\site-packages (from pydantic-settings<3.0.0,>=2.4.0->langchain-community) (1.1.0)\n",
      "Requirement already satisfied: mypy-extensions>=0.3.0 in c:\\users\\1034960\\desktop\\akshara\\study_material\\myprojects\\aiprojects\\.venv\\lib\\site-packages (from typing-inspect<1,>=0.4.0->dataclasses-json<0.7,>=0.5.7->langchain-community) (1.1.0)\n",
      "Requirement already satisfied: ollama<1.0.0,>=0.4.8 in c:\\users\\1034960\\desktop\\akshara\\study_material\\myprojects\\aiprojects\\.venv\\lib\\site-packages (from langchain-ollama) (0.5.1)\n",
      "Requirement already satisfied: tokenizers>=0.19.1 in c:\\users\\1034960\\desktop\\akshara\\study_material\\myprojects\\aiprojects\\.venv\\lib\\site-packages (from langchain-huggingface) (0.21.1)\n",
      "Requirement already satisfied: huggingface-hub>=0.30.2 in c:\\users\\1034960\\desktop\\akshara\\study_material\\myprojects\\aiprojects\\.venv\\lib\\site-packages (from langchain-huggingface) (0.33.0)\n",
      "Requirement already satisfied: transformers<5.0.0,>=4.41.0 in c:\\users\\1034960\\desktop\\akshara\\study_material\\myprojects\\aiprojects\\.venv\\lib\\site-packages (from sentence-transformers) (4.52.4)\n",
      "Requirement already satisfied: tqdm in c:\\users\\1034960\\desktop\\akshara\\study_material\\myprojects\\aiprojects\\.venv\\lib\\site-packages (from sentence-transformers) (4.67.1)\n",
      "Requirement already satisfied: torch>=1.11.0 in c:\\users\\1034960\\desktop\\akshara\\study_material\\myprojects\\aiprojects\\.venv\\lib\\site-packages (from sentence-transformers) (2.7.1)\n",
      "Requirement already satisfied: scikit-learn in c:\\users\\1034960\\desktop\\akshara\\study_material\\myprojects\\aiprojects\\.venv\\lib\\site-packages (from sentence-transformers) (1.7.0)\n",
      "Requirement already satisfied: scipy in c:\\users\\1034960\\desktop\\akshara\\study_material\\myprojects\\aiprojects\\.venv\\lib\\site-packages (from sentence-transformers) (1.15.3)\n",
      "Requirement already satisfied: Pillow in c:\\users\\1034960\\desktop\\akshara\\study_material\\myprojects\\aiprojects\\.venv\\lib\\site-packages (from sentence-transformers) (11.2.1)\n",
      "Requirement already satisfied: filelock in c:\\users\\1034960\\desktop\\akshara\\study_material\\myprojects\\aiprojects\\.venv\\lib\\site-packages (from transformers<5.0.0,>=4.41.0->sentence-transformers) (3.18.0)\n",
      "Requirement already satisfied: regex!=2019.12.17 in c:\\users\\1034960\\desktop\\akshara\\study_material\\myprojects\\aiprojects\\.venv\\lib\\site-packages (from transformers<5.0.0,>=4.41.0->sentence-transformers) (2024.11.6)\n",
      "Requirement already satisfied: safetensors>=0.4.3 in c:\\users\\1034960\\desktop\\akshara\\study_material\\myprojects\\aiprojects\\.venv\\lib\\site-packages (from transformers<5.0.0,>=4.41.0->sentence-transformers) (0.5.3)\n",
      "Requirement already satisfied: fsspec>=2023.5.0 in c:\\users\\1034960\\desktop\\akshara\\study_material\\myprojects\\aiprojects\\.venv\\lib\\site-packages (from huggingface-hub>=0.30.2->langchain-huggingface) (2025.5.1)\n",
      "Requirement already satisfied: sympy>=1.13.3 in c:\\users\\1034960\\desktop\\akshara\\study_material\\myprojects\\aiprojects\\.venv\\lib\\site-packages (from torch>=1.11.0->sentence-transformers) (1.14.0)\n",
      "Requirement already satisfied: networkx in c:\\users\\1034960\\desktop\\akshara\\study_material\\myprojects\\aiprojects\\.venv\\lib\\site-packages (from torch>=1.11.0->sentence-transformers) (3.5)\n",
      "Requirement already satisfied: jinja2 in c:\\users\\1034960\\desktop\\akshara\\study_material\\myprojects\\aiprojects\\.venv\\lib\\site-packages (from torch>=1.11.0->sentence-transformers) (3.1.6)\n",
      "Requirement already satisfied: setuptools in c:\\users\\1034960\\desktop\\akshara\\study_material\\myprojects\\aiprojects\\.venv\\lib\\site-packages (from torch>=1.11.0->sentence-transformers) (80.9.0)\n",
      "Requirement already satisfied: mpmath<1.4,>=1.1.0 in c:\\users\\1034960\\desktop\\akshara\\study_material\\myprojects\\aiprojects\\.venv\\lib\\site-packages (from sympy>=1.13.3->torch>=1.11.0->sentence-transformers) (1.3.0)\n",
      "Requirement already satisfied: colorama in c:\\users\\1034960\\desktop\\akshara\\study_material\\myprojects\\aiprojects\\.venv\\lib\\site-packages (from tqdm->sentence-transformers) (0.4.6)\n",
      "Requirement already satisfied: sniffio>=1.1 in c:\\users\\1034960\\desktop\\akshara\\study_material\\myprojects\\aiprojects\\.venv\\lib\\site-packages (from anyio->httpx<1,>=0.23.0->langsmith<0.4,>=0.1.17->langchain) (1.3.1)\n",
      "Requirement already satisfied: MarkupSafe>=2.0 in c:\\users\\1034960\\desktop\\akshara\\study_material\\myprojects\\aiprojects\\.venv\\lib\\site-packages (from jinja2->torch>=1.11.0->sentence-transformers) (3.0.2)\n",
      "Requirement already satisfied: joblib>=1.2.0 in c:\\users\\1034960\\desktop\\akshara\\study_material\\myprojects\\aiprojects\\.venv\\lib\\site-packages (from scikit-learn->sentence-transformers) (1.5.1)\n",
      "Requirement already satisfied: threadpoolctl>=3.1.0 in c:\\users\\1034960\\desktop\\akshara\\study_material\\myprojects\\aiprojects\\.venv\\lib\\site-packages (from scikit-learn->sentence-transformers) (3.6.0)\n",
      "Note: you may need to restart the kernel to use updated packages.\n"
     ]
    }
   ],
   "source": [
    "pip install -U langchain faiss-cpu langchain-community langchain-ollama langchain-huggingface sentence-transformers"
   ]
  },
  {
   "cell_type": "code",
   "execution_count": 2,
   "metadata": {},
   "outputs": [],
   "source": [
    "from langchain.document_loaders import TextLoader\n",
    "from langchain.vectorstores import FAISS"
   ]
  },
  {
   "cell_type": "code",
   "execution_count": 3,
   "metadata": {},
   "outputs": [
    {
     "name": "stdout",
     "output_type": "stream",
     "text": [
      "Food Item: Apple\n",
      "Category: Fruit\n",
      "Description: Apples are sweet, edible fruits produced by an apple tree. They are rich in fiber and vitamin C.\n",
      "Nutritional Info (per 100g): Calories: 52, Carbs: 14g, Fiber: 2.4g, Sugar: 10g, Protein: 0.3g\n",
      "\n",
      "Food Item: Broccoli\n",
      "Category: Vegetable\n",
      "Description: Broccoli is a cruciferous vegetable known for its high levels of vitamin C, K, and fiber. Often eaten steamed or raw.\n",
      "Nutritional Info (per 100g): Calories: 34, Carbs: 7g, Fiber: 2.6g, Protein: 2.8g\n",
      "\n",
      "Food Item: Chicken Breast\n",
      "Category: Protein\n",
      "Description: A lean cut of chicken meat, commonly used in healthy diets. It is a great source of protein and low in fat.\n",
      "Nutritional Info (per 100g): Calories: 165, Protein: 31g, Fat: 3.6g, Carbs: 0g\n",
      "\n",
      "Food Item: Almonds\n",
      "Category: Nuts\n",
      "Description: Almonds are nutrient-dense nuts packed with healthy fats, vitamin E, magnesium, and antioxidants.\n",
      "Nutritional Info (per 100g): Calories: 579, Protein: 21g, Fat: 50g, Carbs: 22g, Fiber: 12g\n",
      "\n",
      "Food Item: Brown Rice\n",
      "Category: Grain\n",
      "Description: Brown rice is a whole grain with the bran and germ intact, making it more nutritious than white rice.\n",
      "Nutritional Info (per 100g): Calories: 123, Carbs: 26g, Fiber: 1.6g, Protein: 2.7g\n",
      "\n",
      "Food Item: Yogurt (Plain)\n",
      "Category: Dairy\n",
      "Description: Yogurt is a fermented milk product rich in probiotics, calcium, and protein. Great for gut health.\n",
      "Nutritional Info (per 100g): Calories: 59, Protein: 10g, Carbs: 3.6g, Fat: 0.4g\n",
      "\n"
     ]
    }
   ],
   "source": [
    "with open('food.txt', 'r') as file:\n",
    "    text = file.read()\n",
    "    print(text)\n"
   ]
  },
  {
   "cell_type": "code",
   "execution_count": null,
   "metadata": {},
   "outputs": [
    {
     "name": "stdout",
     "output_type": "stream",
     "text": [
      "[Document(metadata={'source': 'food.txt'}, page_content='Food Item: Apple\\nCategory: Fruit\\nDescription: Apples are sweet, edible fruits produced by an apple tree. They are rich in fiber and vitamin C.\\nNutritional Info (per 100g): Calories: 52, Carbs: 14g, Fiber: 2.4g, Sugar: 10g, Protein: 0.3g\\n\\nFood Item: Broccoli\\nCategory: Vegetable\\nDescription: Broccoli is a cruciferous vegetable known for its high levels of vitamin C, K, and fiber. Often eaten steamed or raw.\\nNutritional Info (per 100g): Calories: 34, Carbs: 7g, Fiber: 2.6g, Protein: 2.8g\\n\\nFood Item: Chicken Breast\\nCategory: Protein\\nDescription: A lean cut of chicken meat, commonly used in healthy diets. It is a great source of protein and low in fat.\\nNutritional Info (per 100g): Calories: 165, Protein: 31g, Fat: 3.6g, Carbs: 0g\\n\\nFood Item: Almonds\\nCategory: Nuts\\nDescription: Almonds are nutrient-dense nuts packed with healthy fats, vitamin E, magnesium, and antioxidants.\\nNutritional Info (per 100g): Calories: 579, Protein: 21g, Fat: 50g, Carbs: 22g, Fiber: 12g\\n\\nFood Item: Brown Rice\\nCategory: Grain\\nDescription: Brown rice is a whole grain with the bran and germ intact, making it more nutritious than white rice.\\nNutritional Info (per 100g): Calories: 123, Carbs: 26g, Fiber: 1.6g, Protein: 2.7g\\n\\nFood Item: Yogurt (Plain)\\nCategory: Dairy\\nDescription: Yogurt is a fermented milk product rich in probiotics, calcium, and protein. Great for gut health.\\nNutritional Info (per 100g): Calories: 59, Protein: 10g, Carbs: 3.6g, Fat: 0.4g\\n')]\n"
     ]
    }
   ],
   "source": [
    "# Load the data from text file\n",
    "loader = TextLoader('food.txt', encoding='utf-8')\n",
    "documents = loader.load()\n",
    "print(documents)"
   ]
  },
  {
   "cell_type": "code",
   "execution_count": null,
   "metadata": {},
   "outputs": [
    {
     "name": "stdout",
     "output_type": "stream",
     "text": [
      "Food Item: Apple\n",
      "Category: Fruit\n",
      "Description: Apples are sweet, edible fruits produced by an apple tree. They are rich in fiber and vitamin C.\n",
      "Nutritional Info (per 100g): Calories: 52, Carbs: 14g, Fiber: 2.4g, Sugar: 10g, Protein: 0.3g\n"
     ]
    }
   ],
   "source": [
    "# Spli data into chunks\n",
    "from langchain.text_splitter import RecursiveCharacterTextSplitter\n",
    "text_splitter = RecursiveCharacterTextSplitter(chunk_size=300, chunk_overlap=50)\n",
    "text_chunks = text_splitter.split_documents(documents)\n",
    "print(text_chunks[0].page_content)"
   ]
  },
  {
   "cell_type": "code",
   "execution_count": 7,
   "metadata": {},
   "outputs": [],
   "source": [
    "from langchain.prompts import ChatPromptTemplate\n",
    "\n",
    "template=\"\"\"You are an assistant for question-answering tasks.\n",
    "Use the following pieces of retrieved context to answer the question.\n",
    "If you don't know the answer, just say that you don't know.\n",
    "Use ten sentences maximum and keep the answer concise.\n",
    "Question: {question}\n",
    "Context: {context}\n",
    "Answer:\n",
    "\"\"\"\n",
    "prompt = ChatPromptTemplate.from_template(template)"
   ]
  },
  {
   "cell_type": "code",
   "execution_count": null,
   "metadata": {},
   "outputs": [
    {
     "name": "stderr",
     "output_type": "stream",
     "text": [
      "c:\\Users\\1034960\\Desktop\\Akshara\\study_material\\MyProjects\\AIprojects\\.venv\\Lib\\site-packages\\tqdm\\auto.py:21: TqdmWarning: IProgress not found. Please update jupyter and ipywidgets. See https://ipywidgets.readthedocs.io/en/stable/user_install.html\n",
      "  from .autonotebook import tqdm as notebook_tqdm\n"
     ]
    },
    {
     "name": "stdout",
     "output_type": "stream",
     "text": [
      "WARNING:tensorflow:From c:\\Users\\1034960\\Desktop\\Akshara\\study_material\\MyProjects\\AIprojects\\.venv\\Lib\\site-packages\\tf_keras\\src\\losses.py:2976: The name tf.losses.sparse_softmax_cross_entropy is deprecated. Please use tf.compat.v1.losses.sparse_softmax_cross_entropy instead.\n",
      "\n"
     ]
    }
   ],
   "source": [
    "# embedding and generating vectorstore\n",
    "from langchain_huggingface import HuggingFaceEmbeddings\n",
    "embeddings = HuggingFaceEmbeddings(\n",
    "    model_name=\"sentence-transformers/all-MiniLM-L6-v2\"\n",
    ")\n",
    "\n",
    "texts = [chunk.page_content for chunk in text_chunks]\n",
    "vectorstore = FAISS.from_texts(texts, embeddings)"
   ]
  },
  {
   "cell_type": "code",
   "execution_count": 9,
   "metadata": {},
   "outputs": [],
   "source": [
    "from langchain.schema.output_parser import StrOutputParser\n",
    "from langchain.schema.runnable import RunnablePassthrough\n",
    "from langchain_ollama import OllamaLLM\n",
    "\n",
    "\n",
    "retriever = vectorstore.as_retriever(search_kwargs={\"k\": 2})\n",
    "\n",
    "llm_model = OllamaLLM(\n",
    "    model=\"llama3.1:latest\",\n",
    "    base_url=\"http://localhost:11434\"\n",
    ")\n",
    "\n",
    "output_parser = StrOutputParser()\n",
    "rag_chain = (\n",
    "    {\"context\": retriever, \"question\": RunnablePassthrough()}\n",
    "     | prompt | llm_model | output_parser)\n",
    "\n"
   ]
  },
  {
   "cell_type": "code",
   "execution_count": 10,
   "metadata": {},
   "outputs": [
    {
     "name": "stdout",
     "output_type": "stream",
     "text": [
      "Answer: Almonds are a fiber-rich food option. According to the nutritional information provided, one ounce of almonds contains approximately 3.5 grams of fiber. This can contribute to daily dietary needs for healthy digestion and satiety.\n"
     ]
    }
   ],
   "source": [
    "question = \"suggest a fiber rich food?\"\n",
    "response = rag_chain.invoke(question)\n",
    "print(f\"Answer: {response}\")"
   ]
  },
  {
   "cell_type": "code",
   "execution_count": 11,
   "metadata": {},
   "outputs": [
    {
     "name": "stdout",
     "output_type": "stream",
     "text": [
      "Answer: To create a protein-rich diet, include foods high in protein such as chicken breast and yogurt. Chicken breast is a great source of protein with 31g per 100g. Yogurt is also rich in protein with 10g per 100g. Both are low in fat and calories, making them ideal for healthy diets. Eat chicken breast 2-3 times a week or as part of your main meals. Add yogurt to your breakfast or snack time for an extra protein boost. You can also include other protein-rich foods like fish, eggs, and legumes. Aim to consume at least 1g of protein per kilogram of body weight daily. This will help you meet your protein needs. Consult a healthcare professional or registered dietitian for personalized advice.\n"
     ]
    }
   ],
   "source": [
    "question = \"Create a protein rich diet?\"\n",
    "response = rag_chain.invoke(question)\n",
    "print(f\"Answer: {response}\")"
   ]
  }
 ],
 "metadata": {
  "kernelspec": {
   "display_name": ".venv",
   "language": "python",
   "name": "python3"
  },
  "language_info": {
   "codemirror_mode": {
    "name": "ipython",
    "version": 3
   },
   "file_extension": ".py",
   "mimetype": "text/x-python",
   "name": "python",
   "nbconvert_exporter": "python",
   "pygments_lexer": "ipython3",
   "version": "3.12.3"
  }
 },
 "nbformat": 4,
 "nbformat_minor": 2
}
