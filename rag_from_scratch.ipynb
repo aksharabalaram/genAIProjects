{
 "cells": [
  {
   "cell_type": "markdown",
   "metadata": {},
   "source": [
    "A Simple RAG implementation from scratch"
   ]
  },
  {
   "cell_type": "code",
   "execution_count": 24,
   "metadata": {},
   "outputs": [
    {
     "data": {
      "text/plain": [
       "['Take a leisurely walk in the park and enjoy the fresh air.',\n",
       " 'Visit a local museum and discover something new.',\n",
       " 'Attend a live music concert and feel the rhythm.',\n",
       " 'Go for a hike and admire the natural scenery.',\n",
       " 'Have a picnic with friends and share some laughs.',\n",
       " 'Explore a new cuisine by dining at an ethnic restaurant.',\n",
       " 'Take a yoga class and stretch your body and mind.',\n",
       " 'Join a local sports league and enjoy some friendly competition.',\n",
       " \"Attend a workshop or lecture on a topic you're interested in.\",\n",
       " 'Visit an amusement park and ride the roller coasters.',\n",
       " 'yoga is very good for living healthy lifesytle.']"
      ]
     },
     "execution_count": 24,
     "metadata": {},
     "output_type": "execute_result"
    }
   ],
   "source": [
    "corpus_of_documents = [\n",
    "    \"Take a leisurely walk in the park and enjoy the fresh air.\",\n",
    "    \"Visit a local museum and discover something new.\",\n",
    "    \"Attend a live music concert and feel the rhythm.\",\n",
    "    \"Go for a hike and admire the natural scenery.\",\n",
    "    \"Have a picnic with friends and share some laughs.\",\n",
    "    \"Explore a new cuisine by dining at an ethnic restaurant.\",\n",
    "    \"Take a yoga class and stretch your body and mind.\",\n",
    "    \"Join a local sports league and enjoy some friendly competition.\",\n",
    "    \"Attend a workshop or lecture on a topic you're interested in.\",\n",
    "    \"Visit an amusement park and ride the roller coasters.\",\n",
    "    \"yoga is very good for living healthy lifesytle.\"\n",
    "]\n",
    "corpus_of_documents"
   ]
  },
  {
   "cell_type": "code",
   "execution_count": 2,
   "metadata": {},
   "outputs": [],
   "source": [
    "from collections import Counter\n",
    "import math"
   ]
  },
  {
   "cell_type": "code",
   "execution_count": 21,
   "metadata": {},
   "outputs": [],
   "source": [
    "def cosine_similarity(query, document):\n",
    "    query_tokens = query.lower().split(\" \")\n",
    "    document_tokens = document.lower().split(\" \")\n",
    "\n",
    "    query_counter = Counter(query_tokens)\n",
    "    document_counter = Counter(document_tokens)\n",
    "    print(f\"Query Counter: {query_counter}\")\n",
    "    print(f\"Document Counter: {document_counter}\")\n",
    "\n",
    "    dot_product = sum(query_counter[token] * document_counter[token] for token in query_counter.keys() & document_counter.keys())\n",
    "    print(f\"Dot Product: {dot_product}\")\n",
    "\n",
    "    query_magnitude = math.sqrt(sum(count ** 2 for count in query_counter.values()))\n",
    "    document_magnitude = math.sqrt(sum(count ** 2 for count in document_counter.values()))\n",
    "\n",
    "    cosine_similarity = dot_product / (query_magnitude * document_magnitude) if query_magnitude and document_magnitude else 0.0\n",
    "    print(f\"Cosine Similarity: {cosine_similarity}\")\n",
    "\n",
    "    return cosine_similarity\n",
    "\n",
    "\n",
    "\n"
   ]
  },
  {
   "cell_type": "code",
   "execution_count": null,
   "metadata": {},
   "outputs": [
    {
     "name": "stdout",
     "output_type": "stream",
     "text": [
      "Query Counter: Counter({'is': 1, 'yoga': 1, 'good': 1, 'for': 1, 'health': 1})\n",
      "Document Counter: Counter({'yoga': 1, 'is': 1, 'very': 1, 'good': 1, 'for': 1, 'living': 1, 'healthy': 1, 'lifesytle.': 1})\n",
      "Dot Product: 4\n",
      "Cosine Similarity: 0.6324555320336759\n"
     ]
    },
    {
     "data": {
      "text/plain": [
       "0.6324555320336759"
      ]
     },
     "execution_count": 22,
     "metadata": {},
     "output_type": "execute_result"
    }
   ],
   "source": [
    "query = \"is yoga good for health\"\n",
    "document = \"yoga is very good for living healthy lifesytle.\"\n",
    "cosine_similarity(query, document)\n"
   ]
  },
  {
   "cell_type": "code",
   "execution_count": 25,
   "metadata": {},
   "outputs": [
    {
     "name": "stdout",
     "output_type": "stream",
     "text": [
      "Query Counter: Counter({'is': 1, 'yoga': 1, 'good': 1, 'for': 1, 'health': 1})\n",
      "Document Counter: Counter({'the': 2, 'take': 1, 'a': 1, 'leisurely': 1, 'walk': 1, 'in': 1, 'park': 1, 'and': 1, 'enjoy': 1, 'fresh': 1, 'air.': 1})\n",
      "Dot Product: 0\n",
      "Cosine Similarity: 0.0\n",
      "Query Counter: Counter({'is': 1, 'yoga': 1, 'good': 1, 'for': 1, 'health': 1})\n",
      "Document Counter: Counter({'visit': 1, 'a': 1, 'local': 1, 'museum': 1, 'and': 1, 'discover': 1, 'something': 1, 'new.': 1})\n",
      "Dot Product: 0\n",
      "Cosine Similarity: 0.0\n",
      "Query Counter: Counter({'is': 1, 'yoga': 1, 'good': 1, 'for': 1, 'health': 1})\n",
      "Document Counter: Counter({'attend': 1, 'a': 1, 'live': 1, 'music': 1, 'concert': 1, 'and': 1, 'feel': 1, 'the': 1, 'rhythm.': 1})\n",
      "Dot Product: 0\n",
      "Cosine Similarity: 0.0\n",
      "Query Counter: Counter({'is': 1, 'yoga': 1, 'good': 1, 'for': 1, 'health': 1})\n",
      "Document Counter: Counter({'go': 1, 'for': 1, 'a': 1, 'hike': 1, 'and': 1, 'admire': 1, 'the': 1, 'natural': 1, 'scenery.': 1})\n",
      "Dot Product: 1\n",
      "Cosine Similarity: 0.14907119849998599\n",
      "Query Counter: Counter({'is': 1, 'yoga': 1, 'good': 1, 'for': 1, 'health': 1})\n",
      "Document Counter: Counter({'have': 1, 'a': 1, 'picnic': 1, 'with': 1, 'friends': 1, 'and': 1, 'share': 1, 'some': 1, 'laughs.': 1})\n",
      "Dot Product: 0\n",
      "Cosine Similarity: 0.0\n",
      "Query Counter: Counter({'is': 1, 'yoga': 1, 'good': 1, 'for': 1, 'health': 1})\n",
      "Document Counter: Counter({'explore': 1, 'a': 1, 'new': 1, 'cuisine': 1, 'by': 1, 'dining': 1, 'at': 1, 'an': 1, 'ethnic': 1, 'restaurant.': 1})\n",
      "Dot Product: 0\n",
      "Cosine Similarity: 0.0\n",
      "Query Counter: Counter({'is': 1, 'yoga': 1, 'good': 1, 'for': 1, 'health': 1})\n",
      "Document Counter: Counter({'and': 2, 'take': 1, 'a': 1, 'yoga': 1, 'class': 1, 'stretch': 1, 'your': 1, 'body': 1, 'mind.': 1})\n",
      "Dot Product: 1\n",
      "Cosine Similarity: 0.12909944487358055\n",
      "Query Counter: Counter({'is': 1, 'yoga': 1, 'good': 1, 'for': 1, 'health': 1})\n",
      "Document Counter: Counter({'join': 1, 'a': 1, 'local': 1, 'sports': 1, 'league': 1, 'and': 1, 'enjoy': 1, 'some': 1, 'friendly': 1, 'competition.': 1})\n",
      "Dot Product: 0\n",
      "Cosine Similarity: 0.0\n",
      "Query Counter: Counter({'is': 1, 'yoga': 1, 'good': 1, 'for': 1, 'health': 1})\n",
      "Document Counter: Counter({'a': 2, 'attend': 1, 'workshop': 1, 'or': 1, 'lecture': 1, 'on': 1, 'topic': 1, \"you're\": 1, 'interested': 1, 'in.': 1})\n",
      "Dot Product: 0\n",
      "Cosine Similarity: 0.0\n",
      "Query Counter: Counter({'is': 1, 'yoga': 1, 'good': 1, 'for': 1, 'health': 1})\n",
      "Document Counter: Counter({'visit': 1, 'an': 1, 'amusement': 1, 'park': 1, 'and': 1, 'ride': 1, 'the': 1, 'roller': 1, 'coasters.': 1})\n",
      "Dot Product: 0\n",
      "Cosine Similarity: 0.0\n",
      "Query Counter: Counter({'is': 1, 'yoga': 1, 'good': 1, 'for': 1, 'health': 1})\n",
      "Document Counter: Counter({'yoga': 1, 'is': 1, 'very': 1, 'good': 1, 'for': 1, 'living': 1, 'healthy': 1, 'lifesytle.': 1})\n",
      "Dot Product: 4\n",
      "Cosine Similarity: 0.6324555320336759\n",
      "Most similar document: yoga is very good for living healthy lifesytle.\n",
      "Highest similarity score: 0.6324555320336759\n"
     ]
    }
   ],
   "source": [
    "most_similar_document = None\n",
    "highest_similarity = 0.0\n",
    "for document in corpus_of_documents:\n",
    "    similarity = cosine_similarity(query, document)\n",
    "    if similarity > highest_similarity:\n",
    "        highest_similarity = similarity\n",
    "        most_similar_document = document\n",
    "\n",
    "print(f\"Most similar document: {most_similar_document}\")\n",
    "print(f\"Highest similarity score: {highest_similarity}\")"
   ]
  },
  {
   "cell_type": "code",
   "execution_count": 37,
   "metadata": {},
   "outputs": [],
   "source": [
    "prompt = \"\"\"\n",
    "\"You are an intelligent assistant that recommends activities based on user input. Compare the user's query with a corpus of documents and identify the most relevant activity. Respond politely and concisely.\n",
    "\n",
    "User Input: {user_input}\n",
    "Most Relevant Activity (from corpus): {relevant_document}\n",
    "Based on the user's input and the relevant activity, provide a short and helpful recommendation.\"\n",
    "\n",
    "\"\"\""
   ]
  },
  {
   "cell_type": "code",
   "execution_count": 26,
   "metadata": {},
   "outputs": [],
   "source": [
    "import requests\n",
    "import json"
   ]
  },
  {
   "cell_type": "code",
   "execution_count": 40,
   "metadata": {},
   "outputs": [],
   "source": [
    "url = 'http://localhost:11434/api/generate'\n",
    "query = \"I like spending time outdoors and staying active. What are some good activities for me?\"\n",
    "data = {\n",
    "    \"model\": \"llama3.1:latest\",\n",
    "    \"prompt\": prompt.format(user_input=query, relevant_document=corpus_of_documents)\n",
    "}\n",
    "headers = {'Content-Type': 'application/json'}\n",
    "\n",
    "response = requests.post(url, data=json.dumps(data), headers=headers, stream=True)"
   ]
  },
  {
   "cell_type": "code",
   "execution_count": 41,
   "metadata": {},
   "outputs": [
    {
     "name": "stdout",
     "output_type": "stream",
     "text": [
      "Based on your love of spending time outdoors and staying active, I highly recommend taking a hike to admire the natural scenery! It's an excellent way to get some exercise while enjoying the beauty of nature. Give it a try and see where the trail takes you!\n"
     ]
    }
   ],
   "source": [
    "full_response = []\n",
    "try:\n",
    "    for line in response.iter_lines():\n",
    "        # filter out keep-alive new lines\n",
    "        if line:\n",
    "            decoded_line = json.loads(line.decode('utf-8'))\n",
    "            # print(decoded_line['response'])  # uncomment to results, token by token\n",
    "            full_response.append(decoded_line['response'])\n",
    "finally:\n",
    "    response.close()\n",
    "    \n",
    "    \n",
    "print(''.join(full_response))"
   ]
  },
  {
   "cell_type": "code",
   "execution_count": null,
   "metadata": {},
   "outputs": [],
   "source": []
  }
 ],
 "metadata": {
  "kernelspec": {
   "display_name": "base",
   "language": "python",
   "name": "python3"
  },
  "language_info": {
   "codemirror_mode": {
    "name": "ipython",
    "version": 3
   },
   "file_extension": ".py",
   "mimetype": "text/x-python",
   "name": "python",
   "nbconvert_exporter": "python",
   "pygments_lexer": "ipython3",
   "version": "3.11.5"
  }
 },
 "nbformat": 4,
 "nbformat_minor": 2
}
